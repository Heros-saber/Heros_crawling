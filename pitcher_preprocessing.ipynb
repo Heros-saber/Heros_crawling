{
 "cells": [
  {
   "cell_type": "code",
   "execution_count": 1,
   "metadata": {},
   "outputs": [],
   "source": [
    "import pandas as pd\n",
    "\n",
    "players = ['주승우', '하영민', '헤이수스', '후라도']\n",
    "files = ['_zone_avg.csv', '_zone_rate.csv']\n",
    "\n",
    "index_list = ['타율', '구사율']\n",
    "removing_index = [' - 너클볼', ' - 우언', ' - 주자없음', ' - 주자있음', ' - 득점권', ' - 양타', ' - 구종모름']\n",
    "count_index = [' - 초구', ' - 스트라이크 > 볼', ' - 볼 > 스트라이크', ' - 스트라이크 = 볼']\n",
    "fast_ball_index = [' - 투심', ' - 포심', ' - 커터']\n",
    "droping_columns = ['PA_' + str(i+1) for i in range(25)] + ['컨택율', '타율', 'ops', '']\n",
    "\n",
    "for player in players:\n",
    "    for i in range(2):\n",
    "        # 파일 읽기\n",
    "        df = pd.read_csv('pitcher_data/' + player + files[i])\n",
    "        df = df.drop(columns=droping_columns, errors='ignore')\n",
    "\n",
    "        # 제거할 행 필터링 (첫 번째 열의 값이 `removing_index`에 포함된 경우)\n",
    "        removing_rows = [index_list[i] + index for index in removing_index]\n",
    "        df = df[~df.iloc[:, 0].isin(removing_rows)]\n",
    "\n",
    "        # count 행을 합쳐서 하나의 행으로 만들기\n",
    "        count_rows = [index_list[i] + index for index in count_index]\n",
    "        if all(row in df.iloc[:, 0].values for row in count_rows):\n",
    "            count_sum = df[df.iloc[:, 0].isin(count_rows)].iloc[:, 1:].mean()\n",
    "            count_sum = count_sum.round(3)\n",
    "            count_sum_row = pd.DataFrame([[index_list[i] + ' - 카운트'] + count_sum.tolist()], columns=df.columns)\n",
    "            df = pd.concat([df, count_sum_row], ignore_index=True)\n",
    "            df = df[~df.iloc[:, 0].isin(count_rows)]\n",
    "\n",
    "        fastball_rows = [index_list[i] + index for index in fast_ball_index]\n",
    "\n",
    "        # fastball_rows에 있는 항목이 df의 첫 번째 열에 존재하는지 확인\n",
    "        matching_rows = df[df.iloc[:, 0].isin(fastball_rows)]\n",
    "\n",
    "        if not matching_rows.empty:\n",
    "            # 1개 이상의 행이 일치하면 평균을 구해서 합산\n",
    "            if len(matching_rows) > 1:\n",
    "                fastball_sum = matching_rows.iloc[:, 1:].mean()  # 두 번째 열부터 평균 계산\n",
    "                fastball_sum = fastball_sum.round(3)  # 소수점 3자리로 반올림\n",
    "                fastball_sum_row = pd.DataFrame([[index_list[i] + ' - 패스트볼'] + fastball_sum.tolist()], columns=df.columns)\n",
    "                df = pd.concat([df, fastball_sum_row], ignore_index=True)\n",
    "            else:\n",
    "                # 1개만 일치하는 경우 이름만 바꿈\n",
    "                matching_rows.iloc[0, 0] = index_list[i] + ' - 패스트볼'\n",
    "                df = pd.concat([df, matching_rows.iloc[[0]]], ignore_index=True)\n",
    "\n",
    "            # 처리한 행들 삭제\n",
    "            df = df[~df.iloc[:, 0].isin(fastball_rows)]\n",
    "\n",
    "        df.loc[df.iloc[:, 0] == index_list[i] + ' - 2S 이후', df.columns[0]] = index_list[i] + ' - 결정구'\n",
    "        df.to_csv(player + files[i])\n"
   ]
  },
  {
   "cell_type": "code",
   "execution_count": null,
   "metadata": {},
   "outputs": [],
   "source": []
  }
 ],
 "metadata": {
  "kernelspec": {
   "display_name": "Python 3",
   "language": "python",
   "name": "python3"
  },
  "language_info": {
   "codemirror_mode": {
    "name": "ipython",
    "version": 3
   },
   "file_extension": ".py",
   "mimetype": "text/x-python",
   "name": "python",
   "nbconvert_exporter": "python",
   "pygments_lexer": "ipython3",
   "version": "3.12.6"
  }
 },
 "nbformat": 4,
 "nbformat_minor": 2
}
