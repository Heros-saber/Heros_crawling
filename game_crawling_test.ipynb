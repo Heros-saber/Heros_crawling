{
 "cells": [
  {
   "cell_type": "code",
   "execution_count": 24,
   "metadata": {},
   "outputs": [
    {
     "ename": "JavascriptException",
     "evalue": "Message: javascript error: {\"status\":11,\"value\":\"Element is not currently visible and may not be manipulated\"}\n  (Session info: chrome=130.0.6723.119)\nStacktrace:\n\tGetHandleVerifier [0x0094EBD3+24307]\n\t(No symbol) [0x008D8D74]\n\t(No symbol) [0x007BC323]\n\t(No symbol) [0x007C1DA0]\n\t(No symbol) [0x007C3628]\n\t(No symbol) [0x007C36A0]\n\t(No symbol) [0x008011F7]\n\t(No symbol) [0x007F47F1]\n\t(No symbol) [0x0081FE8C]\n\t(No symbol) [0x007F3C14]\n\t(No symbol) [0x00820124]\n\t(No symbol) [0x00839579]\n\t(No symbol) [0x0081FC26]\n\t(No symbol) [0x007F219C]\n\t(No symbol) [0x007F311D]\n\tGetHandleVerifier [0x00BF8D93+2818227]\n\tGetHandleVerifier [0x00C5542E+3196750]\n\tGetHandleVerifier [0x00C4D9D2+3165426]\n\tGetHandleVerifier [0x009EDA70+675216]\n\t(No symbol) [0x008E1B3D]\n\t(No symbol) [0x008DEA18]\n\t(No symbol) [0x008DEBB5]\n\t(No symbol) [0x008D1640]\n\tBaseThreadInitThunk [0x75CB7BA9+25]\n\tRtlInitializeExceptionChain [0x7756C0CB+107]\n\tRtlClearBits [0x7756C04F+191]\n",
     "output_type": "error",
     "traceback": [
      "\u001b[1;31m---------------------------------------------------------------------------\u001b[0m",
      "\u001b[1;31mJavascriptException\u001b[0m                       Traceback (most recent call last)",
      "Cell \u001b[1;32mIn[24], line 14\u001b[0m\n\u001b[0;32m     11\u001b[0m driver\u001b[38;5;241m.\u001b[39mget(\u001b[38;5;124m\"\u001b[39m\u001b[38;5;124mhttps://heroesbaseball.co.kr/games/schedule/list1st.do\u001b[39m\u001b[38;5;124m\"\u001b[39m)\n\u001b[0;32m     13\u001b[0m year_select \u001b[38;5;241m=\u001b[39m Select(driver\u001b[38;5;241m.\u001b[39mfind_element(By\u001b[38;5;241m.\u001b[39mID, \u001b[38;5;124m'\u001b[39m\u001b[38;5;124msearchYear\u001b[39m\u001b[38;5;124m'\u001b[39m))\n\u001b[1;32m---> 14\u001b[0m \u001b[43myear_select\u001b[49m\u001b[38;5;241;43m.\u001b[39;49m\u001b[43mselect_by_value\u001b[49m\u001b[43m(\u001b[49m\u001b[38;5;124;43m'\u001b[39;49m\u001b[38;5;124;43m2023\u001b[39;49m\u001b[38;5;124;43m'\u001b[39;49m\u001b[43m)\u001b[49m  \u001b[38;5;66;03m# 2024년 선택\u001b[39;00m\n\u001b[0;32m     16\u001b[0m \u001b[38;5;66;03m# 월 드롭다운 클릭 (드롭다운이 바로 클릭되도록 처리)\u001b[39;00m\n\u001b[0;32m     17\u001b[0m month_select \u001b[38;5;241m=\u001b[39m driver\u001b[38;5;241m.\u001b[39mfind_element(By\u001b[38;5;241m.\u001b[39mID, \u001b[38;5;124m'\u001b[39m\u001b[38;5;124msearchMonth\u001b[39m\u001b[38;5;124m'\u001b[39m)\n",
      "File \u001b[1;32mc:\\Users\\HYEONWOO\\AppData\\Local\\Programs\\Python\\Python312\\Lib\\site-packages\\selenium\\webdriver\\support\\select.py:79\u001b[0m, in \u001b[0;36mSelect.select_by_value\u001b[1;34m(self, value)\u001b[0m\n\u001b[0;32m     77\u001b[0m matched \u001b[38;5;241m=\u001b[39m \u001b[38;5;28;01mFalse\u001b[39;00m\n\u001b[0;32m     78\u001b[0m \u001b[38;5;28;01mfor\u001b[39;00m opt \u001b[38;5;129;01min\u001b[39;00m opts:\n\u001b[1;32m---> 79\u001b[0m     \u001b[38;5;28;43mself\u001b[39;49m\u001b[38;5;241;43m.\u001b[39;49m\u001b[43m_set_selected\u001b[49m\u001b[43m(\u001b[49m\u001b[43mopt\u001b[49m\u001b[43m)\u001b[49m\n\u001b[0;32m     80\u001b[0m     \u001b[38;5;28;01mif\u001b[39;00m \u001b[38;5;129;01mnot\u001b[39;00m \u001b[38;5;28mself\u001b[39m\u001b[38;5;241m.\u001b[39mis_multiple:\n\u001b[0;32m     81\u001b[0m         \u001b[38;5;28;01mreturn\u001b[39;00m\n",
      "File \u001b[1;32mc:\\Users\\HYEONWOO\\AppData\\Local\\Programs\\Python\\Python312\\Lib\\site-packages\\selenium\\webdriver\\support\\select.py:214\u001b[0m, in \u001b[0;36mSelect._set_selected\u001b[1;34m(self, option)\u001b[0m\n\u001b[0;32m    212\u001b[0m \u001b[38;5;28;01mif\u001b[39;00m \u001b[38;5;129;01mnot\u001b[39;00m option\u001b[38;5;241m.\u001b[39mis_enabled():\n\u001b[0;32m    213\u001b[0m     \u001b[38;5;28;01mraise\u001b[39;00m \u001b[38;5;167;01mNotImplementedError\u001b[39;00m(\u001b[38;5;124m\"\u001b[39m\u001b[38;5;124mYou may not select a disabled option\u001b[39m\u001b[38;5;124m\"\u001b[39m)\n\u001b[1;32m--> 214\u001b[0m \u001b[43moption\u001b[49m\u001b[38;5;241;43m.\u001b[39;49m\u001b[43mclick\u001b[49m\u001b[43m(\u001b[49m\u001b[43m)\u001b[49m\n",
      "File \u001b[1;32mc:\\Users\\HYEONWOO\\AppData\\Local\\Programs\\Python\\Python312\\Lib\\site-packages\\selenium\\webdriver\\remote\\webelement.py:94\u001b[0m, in \u001b[0;36mWebElement.click\u001b[1;34m(self)\u001b[0m\n\u001b[0;32m     92\u001b[0m \u001b[38;5;28;01mdef\u001b[39;00m \u001b[38;5;21mclick\u001b[39m(\u001b[38;5;28mself\u001b[39m) \u001b[38;5;241m-\u001b[39m\u001b[38;5;241m>\u001b[39m \u001b[38;5;28;01mNone\u001b[39;00m:\n\u001b[0;32m     93\u001b[0m \u001b[38;5;250m    \u001b[39m\u001b[38;5;124;03m\"\"\"Clicks the element.\"\"\"\u001b[39;00m\n\u001b[1;32m---> 94\u001b[0m     \u001b[38;5;28;43mself\u001b[39;49m\u001b[38;5;241;43m.\u001b[39;49m\u001b[43m_execute\u001b[49m\u001b[43m(\u001b[49m\u001b[43mCommand\u001b[49m\u001b[38;5;241;43m.\u001b[39;49m\u001b[43mCLICK_ELEMENT\u001b[49m\u001b[43m)\u001b[49m\n",
      "File \u001b[1;32mc:\\Users\\HYEONWOO\\AppData\\Local\\Programs\\Python\\Python312\\Lib\\site-packages\\selenium\\webdriver\\remote\\webelement.py:395\u001b[0m, in \u001b[0;36mWebElement._execute\u001b[1;34m(self, command, params)\u001b[0m\n\u001b[0;32m    393\u001b[0m     params \u001b[38;5;241m=\u001b[39m {}\n\u001b[0;32m    394\u001b[0m params[\u001b[38;5;124m\"\u001b[39m\u001b[38;5;124mid\u001b[39m\u001b[38;5;124m\"\u001b[39m] \u001b[38;5;241m=\u001b[39m \u001b[38;5;28mself\u001b[39m\u001b[38;5;241m.\u001b[39m_id\n\u001b[1;32m--> 395\u001b[0m \u001b[38;5;28;01mreturn\u001b[39;00m \u001b[38;5;28;43mself\u001b[39;49m\u001b[38;5;241;43m.\u001b[39;49m\u001b[43m_parent\u001b[49m\u001b[38;5;241;43m.\u001b[39;49m\u001b[43mexecute\u001b[49m\u001b[43m(\u001b[49m\u001b[43mcommand\u001b[49m\u001b[43m,\u001b[49m\u001b[43m \u001b[49m\u001b[43mparams\u001b[49m\u001b[43m)\u001b[49m\n",
      "File \u001b[1;32mc:\\Users\\HYEONWOO\\AppData\\Local\\Programs\\Python\\Python312\\Lib\\site-packages\\selenium\\webdriver\\remote\\webdriver.py:380\u001b[0m, in \u001b[0;36mWebDriver.execute\u001b[1;34m(self, driver_command, params)\u001b[0m\n\u001b[0;32m    378\u001b[0m response \u001b[38;5;241m=\u001b[39m \u001b[38;5;28mself\u001b[39m\u001b[38;5;241m.\u001b[39mcommand_executor\u001b[38;5;241m.\u001b[39mexecute(driver_command, params)\n\u001b[0;32m    379\u001b[0m \u001b[38;5;28;01mif\u001b[39;00m response:\n\u001b[1;32m--> 380\u001b[0m     \u001b[38;5;28;43mself\u001b[39;49m\u001b[38;5;241;43m.\u001b[39;49m\u001b[43merror_handler\u001b[49m\u001b[38;5;241;43m.\u001b[39;49m\u001b[43mcheck_response\u001b[49m\u001b[43m(\u001b[49m\u001b[43mresponse\u001b[49m\u001b[43m)\u001b[49m\n\u001b[0;32m    381\u001b[0m     response[\u001b[38;5;124m\"\u001b[39m\u001b[38;5;124mvalue\u001b[39m\u001b[38;5;124m\"\u001b[39m] \u001b[38;5;241m=\u001b[39m \u001b[38;5;28mself\u001b[39m\u001b[38;5;241m.\u001b[39m_unwrap_value(response\u001b[38;5;241m.\u001b[39mget(\u001b[38;5;124m\"\u001b[39m\u001b[38;5;124mvalue\u001b[39m\u001b[38;5;124m\"\u001b[39m, \u001b[38;5;28;01mNone\u001b[39;00m))\n\u001b[0;32m    382\u001b[0m     \u001b[38;5;28;01mreturn\u001b[39;00m response\n",
      "File \u001b[1;32mc:\\Users\\HYEONWOO\\AppData\\Local\\Programs\\Python\\Python312\\Lib\\site-packages\\selenium\\webdriver\\remote\\errorhandler.py:229\u001b[0m, in \u001b[0;36mErrorHandler.check_response\u001b[1;34m(self, response)\u001b[0m\n\u001b[0;32m    227\u001b[0m         alert_text \u001b[38;5;241m=\u001b[39m value[\u001b[38;5;124m\"\u001b[39m\u001b[38;5;124malert\u001b[39m\u001b[38;5;124m\"\u001b[39m]\u001b[38;5;241m.\u001b[39mget(\u001b[38;5;124m\"\u001b[39m\u001b[38;5;124mtext\u001b[39m\u001b[38;5;124m\"\u001b[39m)\n\u001b[0;32m    228\u001b[0m     \u001b[38;5;28;01mraise\u001b[39;00m exception_class(message, screen, stacktrace, alert_text)  \u001b[38;5;66;03m# type: ignore[call-arg]  # mypy is not smart enough here\u001b[39;00m\n\u001b[1;32m--> 229\u001b[0m \u001b[38;5;28;01mraise\u001b[39;00m exception_class(message, screen, stacktrace)\n",
      "\u001b[1;31mJavascriptException\u001b[0m: Message: javascript error: {\"status\":11,\"value\":\"Element is not currently visible and may not be manipulated\"}\n  (Session info: chrome=130.0.6723.119)\nStacktrace:\n\tGetHandleVerifier [0x0094EBD3+24307]\n\t(No symbol) [0x008D8D74]\n\t(No symbol) [0x007BC323]\n\t(No symbol) [0x007C1DA0]\n\t(No symbol) [0x007C3628]\n\t(No symbol) [0x007C36A0]\n\t(No symbol) [0x008011F7]\n\t(No symbol) [0x007F47F1]\n\t(No symbol) [0x0081FE8C]\n\t(No symbol) [0x007F3C14]\n\t(No symbol) [0x00820124]\n\t(No symbol) [0x00839579]\n\t(No symbol) [0x0081FC26]\n\t(No symbol) [0x007F219C]\n\t(No symbol) [0x007F311D]\n\tGetHandleVerifier [0x00BF8D93+2818227]\n\tGetHandleVerifier [0x00C5542E+3196750]\n\tGetHandleVerifier [0x00C4D9D2+3165426]\n\tGetHandleVerifier [0x009EDA70+675216]\n\t(No symbol) [0x008E1B3D]\n\t(No symbol) [0x008DEA18]\n\t(No symbol) [0x008DEBB5]\n\t(No symbol) [0x008D1640]\n\tBaseThreadInitThunk [0x75CB7BA9+25]\n\tRtlInitializeExceptionChain [0x7756C0CB+107]\n\tRtlClearBits [0x7756C04F+191]\n"
     ]
    }
   ],
   "source": [
    "from selenium import webdriver\n",
    "from selenium.webdriver.common.by import By\n",
    "from selenium.webdriver.support.ui import Select, WebDriverWait\n",
    "from selenium.webdriver.support import expected_conditions as EC\n",
    "from webdriver_manager.chrome import ChromeDriverManager\n",
    "import time\n",
    "from selenium.webdriver.chrome.service import Service\n",
    "driver = webdriver.Chrome(service=Service(ChromeDriverManager().install()))\n",
    "\n",
    "# 해당 웹 페이지 열기\n",
    "driver.get(\"https://heroesbaseball.co.kr/games/schedule/list1st.do\")\n",
    "\n",
    "year_select = Select(driver.find_element(By.ID, 'searchYear'))\n",
    "year_select.select_by_value('2023')  # 2024년 선택\n",
    "\n",
    "# 월 드롭다운 클릭 (드롭다운이 바로 클릭되도록 처리)\n",
    "month_select = driver.find_element(By.ID, 'searchMonth')\n",
    "month_select.select_by_value('7')\n",
    "\n",
    "# \"이동\" 버튼 클릭\n",
    "move_button = driver.find_element(By.CLASS_NAME, 'submit')\n",
    "move_button.click()\n",
    "\n",
    "# 페이지 로딩 대기 (경기 정보가 로드될 때까지 대기)\n",
    "WebDriverWait(driver, 10).until(\n",
    "    EC.presence_of_element_located((By.CSS_SELECTOR, \".gameList\"))\n",
    ")\n",
    "\n",
    "# 경기 일정 테이블 가져오기\n",
    "time.sleep(2)  # 일정이 로드될 때까지 대기\n",
    "\n",
    "# 각 경기 정보를 추출\n",
    "game_cells = driver.find_elements(By.CSS_SELECTOR, \".gameList td\")\n",
    "\n",
    "# 각 경기에서 정보 추출\n",
    "for cell in game_cells:\n",
    "    # 경기 결과가 포함된 <a> 태그가 있는 <td>만 처리\n",
    "    if cell.find_elements(By.TAG_NAME, \"a\"):\n",
    "        # 경기 결과 정보 추출\n",
    "        game_link = cell.find_element(By.TAG_NAME, \"a\")\n",
    "        \n",
    "        # 팀 이름 추출\n",
    "        teams = game_link.find_elements(By.TAG_NAME, \"span\")[0:2]\n",
    "        home_team = teams[0].text.strip()  # 예: LG\n",
    "        away_team = teams[1].text.strip()  # 예: 키움\n",
    "\n",
    "        # 점수 추출 (숫자)\n",
    "        scores = game_link.find_elements(By.TAG_NAME, \"em\")\n",
    "        home_score = scores[0].text.strip()  # 예: 2\n",
    "        away_score = scores[1].text.strip()  # 예: 4\n",
    "\n",
    "        # 경기 결과 (승패 정보) 추출\n",
    "        result_img = game_link.find_element(By.CSS_SELECTOR, \"img.result\")\n",
    "        result = result_img.get_attribute(\"alt\")  # 예: \"승\" 또는 \"패\"\n",
    "\n",
    "        # 경기 시간 및 장소\n",
    "        location_time = game_link.find_element(By.CLASS_NAME, \"location\").text.strip()  # 예: \"고척 18:30\"\n",
    "\n",
    "        # 결과 출력\n",
    "        print(f\"경기: {home_team} {home_score} : {away_team} {away_score}\")\n",
    "        print(f\"결과: {result}\")\n",
    "        print(f\"장소 및 시간: {location_time}\")\n",
    "        print(\"-\" * 30)\n",
    "\n",
    "# 브라우저 종료\n",
    "driver.quit()\n"
   ]
  },
  {
   "cell_type": "code",
   "execution_count": null,
   "metadata": {},
   "outputs": [],
   "source": [
    "from selenium.webdriver.chrome.service import Service\n",
    "driver = webdriver.Chrome(service=Service(ChromeDriverManager().install()))"
   ]
  }
 ],
 "metadata": {
  "kernelspec": {
   "display_name": "Python 3",
   "language": "python",
   "name": "python3"
  },
  "language_info": {
   "codemirror_mode": {
    "name": "ipython",
    "version": 3
   },
   "file_extension": ".py",
   "mimetype": "text/x-python",
   "name": "python",
   "nbconvert_exporter": "python",
   "pygments_lexer": "ipython3",
   "version": "3.12.6"
  }
 },
 "nbformat": 4,
 "nbformat_minor": 2
}
