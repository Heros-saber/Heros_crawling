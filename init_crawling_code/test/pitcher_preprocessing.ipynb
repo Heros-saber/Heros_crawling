{
 "cells": [
  {
   "cell_type": "code",
   "execution_count": null,
   "metadata": {},
   "outputs": [],
   "source": [
    "import pandas as pd\n",
    "import os\n",
    "\n",
    "players = ['주승우', '하영민', '헤이수스', '후라도']\n",
    "files = ['_zone_avg.csv', '_zone_rate.csv']\n",
    "\n",
    "index_list = ['타율 - ', '구사율 - ']\n",
    "removing_index = ['너클볼', '우언', '주자없음', '주자있음', '득점권', '양타', '구종모름']\n",
    "count_index = ['초구', '스트라이크 > 볼', '볼 > 스트라이크', '스트라이크 = 볼']\n",
    "fast_ball_index = ['투심', '포심', '커터']\n",
    "droping_columns = ['PA_' + str(i+1) for i in range(25)]\n",
    "\n",
    "for player in players:\n",
    "    for i in range(2):\n",
    "        # 파일 읽기\n",
    "        df = pd.read_csv('../pitcher_data/' + player + files[i])\n",
    "        df = df.drop(columns=droping_columns, errors='ignore')\n",
    "\n",
    "        df.iloc[:, 0] = df.iloc[:, 0].apply(lambda x: x.replace(index_list[i], '') if index_list[i] in x else x)\n",
    "\n",
    "        # 제거할 행 필터링 (첫 번째 열의 값이 `removing_index`에 포함된 경우)\n",
    "        removing_rows = [index for index in removing_index]\n",
    "        df = df[~df.iloc[:, 0].isin(removing_rows)]\n",
    "\n",
    "        # count 행을 합쳐서 하나의 행으로 만들기\n",
    "        count_rows = [index for index in count_index]\n",
    "        if all(row in df.iloc[:, 0].values for row in count_rows):\n",
    "            count_sum = df[df.iloc[:, 0].isin(count_rows)].iloc[:, 1:].mean()\n",
    "            count_sum = count_sum.round(3)\n",
    "            count_sum_row = pd.DataFrame([['카운트'] + count_sum.tolist()], columns=df.columns)\n",
    "            df = pd.concat([df, count_sum_row], ignore_index=True)\n",
    "            df = df[~df.iloc[:, 0].isin(count_rows)]\n",
    "\n",
    "        existing_fast_ball = [row for row in fast_ball_index if row in df.iloc[:, 0].values]\n",
    "        if existing_fast_ball:  # 존재하는 값이 하나라도 있다면\n",
    "            # 기존 값으로 작업 진행\n",
    "            fastball_sum = df[df.iloc[:, 0].isin(existing_fast_ball)].iloc[:, 1:].mean()\n",
    "            fastball_sum = fastball_sum.round(3)\n",
    "            fastball_sum_row = pd.DataFrame([['패스트볼'] + fastball_sum.tolist()], columns=df.columns)\n",
    "            \n",
    "            # 기존 데이터프레임에 추가\n",
    "            df = pd.concat([df, fastball_sum_row], ignore_index=True)\n",
    "            df = df[~df.iloc[:, 0].isin(existing_fast_ball)]  # 기존 행 삭제\n",
    "\n",
    "        df.loc[df.iloc[:, 0] == '2S 이후', df.columns[0]] = '결정구'\n",
    "        df.to_csv(player + files[i], index=False)\n"
   ]
  },
  {
   "cell_type": "code",
   "execution_count": null,
   "metadata": {},
   "outputs": [],
   "source": []
  }
 ],
 "metadata": {
  "kernelspec": {
   "display_name": "Python 3",
   "language": "python",
   "name": "python3"
  },
  "language_info": {
   "codemirror_mode": {
    "name": "ipython",
    "version": 3
   },
   "file_extension": ".py",
   "mimetype": "text/x-python",
   "name": "python",
   "nbconvert_exporter": "python",
   "pygments_lexer": "ipython3",
   "version": "3.12.6"
  }
 },
 "nbformat": 4,
 "nbformat_minor": 2
}
