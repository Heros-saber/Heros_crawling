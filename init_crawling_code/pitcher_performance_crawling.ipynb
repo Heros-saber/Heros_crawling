{
 "cells": [
  {
   "cell_type": "code",
   "execution_count": 2,
   "metadata": {},
   "outputs": [],
   "source": [
    "import requests\n",
    "from bs4 import BeautifulSoup\n",
    "import pandas as pd\n",
    "\n",
    "name_list = [\"후라도\", \"헤이수스\", \"하영민\", \"주승우\"]\n",
    "code_list = [\"15531\", \"16138\", \"11222\", \"15067\"]\n",
    "\n",
    "for i in range(len(name_list)):\n",
    "    # HTML 데이터 가져오기\n",
    "    url = f\"https://statiz.sporki.com/player/?m=year&p_no={code_list[i]}\"  # 실제 URL로 변경\n",
    "    response = requests.get(url)\n",
    "    soup = BeautifulSoup(response.text, \"html.parser\")\n",
    "\n",
    "    # 데이터 추출\n",
    "    table = soup.find(\"table\")\n",
    "    rows = table.find(\"tbody\").find_all(\"tr\")\n",
    "\n",
    "    data = []\n",
    "    columns = [\"year\", \"games\", \"win\", \"lose\", \"saves\", \"hold\", \"ip\", \"era\", \"er\", \"tbf\", \"h\", \"2b\", \"3b\", \"hr\", \"bb\", \"so\", \"whip\", \"war\"]\n",
    "\n",
    "    for row in rows:\n",
    "        cells = row.find_all(\"td\")\n",
    "        if len(cells) > 0:\n",
    "            year = cells[0].text.strip()\n",
    "            \n",
    "            # 필요한 값들을 문자열에서 실수로 변환\n",
    "            games = int(cells[4].text.strip()) if cells[4].text.strip() else 0\n",
    "            win = int(cells[10].text.strip()) if cells[10].text.strip() else 0\n",
    "            lose = int(cells[11].text.strip()) if cells[11].text.strip() else 0\n",
    "            save = int(cells[12].text.strip()) if cells[12].text.strip() else 0\n",
    "            hold = int(cells[13].text.strip()) if cells[13].text.strip() else 0\n",
    "            ip = float(cells[14].text.strip()) if cells[14].text.strip() else 0.0\n",
    "            er = int(cells[15].text.strip()) if cells[15].text.strip() else 0\n",
    "            tbf = int(cells[18].text.strip()) if cells[18].text.strip() else 0\n",
    "            h = int(cells[19].text.strip()) if cells[19].text.strip() else 0\n",
    "            two_b = int(cells[20].text.strip()) if cells[20].text.strip() else 0\n",
    "            three_b = int(cells[21].text.strip()) if cells[21].text.strip() else 0\n",
    "            hr = int(cells[22].text.strip()) if cells[22].text.strip() else 0\n",
    "            bb = int(cells[23].text.strip()) if cells[23].text.strip() else 0\n",
    "            hp = int(cells[24].text.strip()) if cells[24].text.strip() else 0\n",
    "            ib = int(cells[25].text.strip()) if cells[25].text.strip() else 0\n",
    "            so = int(cells[26].text.strip()) if cells[26].text.strip() else 0\n",
    "            era = float(cells[30].text.strip()) if cells[30].text.strip() else 0.0\n",
    "            whip = float(cells[-2].text.strip()) if cells[-2].text.strip() else 0\n",
    "            war = float(cells[-1].text.strip()) if cells[-1].text.strip() else 0.0\n",
    "\n",
    "            bb = bb + hp + ib\n",
    "\n",
    "            data.append([year, games, win, lose, save, hold, ip, era, er, tbf, h, two_b, three_b, hr, bb, so, whip, war])\n",
    "\n",
    "    df = pd.DataFrame(data, columns=columns)\n",
    "\n",
    "\n",
    "    df.to_csv(f\"{name_list[i]}_stats.csv\", index=False)\n"
   ]
  },
  {
   "cell_type": "code",
   "execution_count": null,
   "metadata": {},
   "outputs": [],
   "source": []
  }
 ],
 "metadata": {
  "kernelspec": {
   "display_name": "base",
   "language": "python",
   "name": "python3"
  },
  "language_info": {
   "codemirror_mode": {
    "name": "ipython",
    "version": 3
   },
   "file_extension": ".py",
   "mimetype": "text/x-python",
   "name": "python",
   "nbconvert_exporter": "python",
   "pygments_lexer": "ipython3",
   "version": "3.11.7"
  }
 },
 "nbformat": 4,
 "nbformat_minor": 2
}
